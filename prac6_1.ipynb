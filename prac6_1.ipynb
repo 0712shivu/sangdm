{
 "cells": [
  {
   "cell_type": "code",
   "execution_count": 55,
   "metadata": {},
   "outputs": [],
   "source": [
    "import pandas as pd\n",
    "from sklearn import preprocessing\n",
    "from sklearn.naive_bayes import GaussianNB"
   ]
  },
  {
   "cell_type": "code",
   "execution_count": 56,
   "metadata": {},
   "outputs": [
    {
     "name": "stdout",
     "output_type": "stream",
     "text": [
      "color: [0 0 0 1 1 1 1 1 0 0]   type: [0 0 0 0 0 1 1 1 1 0]   origin: [0 0 0 0 1 1 1 0 1 1]\n"
     ]
    }
   ],
   "source": [
    "data=pd.read_csv('cartheift.csv');\n",
    "le = preprocessing.LabelEncoder();\n",
    "color_encode=le.fit_transform(data.color);\n",
    "type_encode=le.fit_transform(data.type);\n",
    "origin_encode=le.fit_transform(data.origin);\n",
    "label=le.fit_transform(data.stolen);\n",
    "print(\"color:\",color_encoded,\" \",\"type:\",type_encode,\" \",\"origin:\",origin_encode);"
   ]
  },
  {
   "cell_type": "code",
   "execution_count": 57,
   "metadata": {},
   "outputs": [
    {
     "name": "stdout",
     "output_type": "stream",
     "text": [
      "   0  1  2\n",
      "0  0  0  0\n",
      "1  0  0  0\n",
      "2  0  0  0\n",
      "3  1  0  0\n",
      "4  1  0  1\n",
      "5  1  1  1\n",
      "6  1  1  1\n",
      "7  1  1  0\n",
      "8  0  1  1\n",
      "9  0  0  1\n",
      "   no   color    type    origin stolen\n",
      "0   1     red  sports  domestic    yes\n",
      "1   2     red  sports  domestic     no\n",
      "2   3     red  sports  domestic    yes\n",
      "3   4  yellow  sports  domestic     no\n",
      "4   5  yellow  sports  imported    yes\n",
      "5   6  yellow     suv  imported     no\n",
      "6   7  yellow     suv  imported    yes\n",
      "7   8  yellow     suv  domestic     no\n",
      "8   9     red     suv  imported     no\n",
      "9  10     red  sports  imported    yes\n"
     ]
    }
   ],
   "source": [
    "feat=list(zip(color_encode,type_encode,origin_encode));\n",
    "features=pd.DataFrame(feat);\n",
    "print(features);\n",
    "print(data);"
   ]
  },
  {
   "cell_type": "code",
   "execution_count": 58,
   "metadata": {},
   "outputs": [],
   "source": [
    "model=GaussianNB();\n",
    "model.fit(features,label);"
   ]
  },
  {
   "cell_type": "code",
   "execution_count": 59,
   "metadata": {},
   "outputs": [
    {
     "name": "stdout",
     "output_type": "stream",
     "text": [
      "Predicted Value: yes\n"
     ]
    }
   ],
   "source": [
    "predicted=model.predict([[0,0,1]])\n",
    "if predicted==[1]:\n",
    "    print(\"Predicted Value:\",\"yes\");\n",
    "else:\n",
    "    print(\"predicted value:\",\"no\");"
   ]
  },
  {
   "cell_type": "code",
   "execution_count": null,
   "metadata": {},
   "outputs": [],
   "source": []
  }
 ],
 "metadata": {
  "kernelspec": {
   "display_name": "Python 3",
   "language": "python",
   "name": "python3"
  },
  "language_info": {
   "codemirror_mode": {
    "name": "ipython",
    "version": 3
   },
   "file_extension": ".py",
   "mimetype": "text/x-python",
   "name": "python",
   "nbconvert_exporter": "python",
   "pygments_lexer": "ipython3",
   "version": "3.7.1"
  }
 },
 "nbformat": 4,
 "nbformat_minor": 2
}
