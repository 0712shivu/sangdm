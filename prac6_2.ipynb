{
 "cells": [
  {
   "cell_type": "code",
   "execution_count": 1,
   "metadata": {},
   "outputs": [],
   "source": [
    "import pandas as pd\n",
    "from sklearn import preprocessing\n",
    "from sklearn.naive_bayes import GaussianNB"
   ]
  },
  {
   "cell_type": "code",
   "execution_count": 3,
   "metadata": {},
   "outputs": [
    {
     "name": "stdout",
     "output_type": "stream",
     "text": [
      "     outlook  temp humidity  windy playgolf\n",
      "0      rainy   hot     high  False       no\n",
      "1      rainy   hot     high   True       no\n",
      "2   overcast   hot     high  False      yes\n",
      "3      sunny  mild     high  False      yes\n",
      "4      sunny  cool   normal  False      yes\n",
      "5      sunny  cool   normal   True       no\n",
      "6   overcast  cool   normal   True      yes\n",
      "7      rainy  mild     high  False       no\n",
      "8      rainy  cool   normal  False      yes\n",
      "9      sunny  mild   normal  False      yes\n",
      "10     rainy  mild   normal   True      yes\n",
      "11  overcast  mild     high   True      yes\n",
      "12  overcast   hot   normal  False      yes\n",
      "13     sunny  mild     high   True       no\n"
     ]
    }
   ],
   "source": [
    "data=pd.read_csv('weather.csv');\n",
    "print(data);"
   ]
  },
  {
   "cell_type": "code",
   "execution_count": 4,
   "metadata": {},
   "outputs": [
    {
     "name": "stdout",
     "output_type": "stream",
     "text": [
      "outlook: [1 1 0 2 2 2 0 1 1 2 1 0 0 2]   temp: [1 1 1 2 0 0 0 2 0 2 2 2 1 2]   humidity: [0 0 0 0 1 1 1 0 1 1 1 0 1 0]   windy: [0 1 0 0 0 1 1 0 0 0 1 1 0 1]\n"
     ]
    }
   ],
   "source": [
    "le = preprocessing.LabelEncoder();\n",
    "outlook=le.fit_transform(data.outlook);\n",
    "temp=le.fit_transform(data.temp);\n",
    "humidity=le.fit_transform(data.humidity);\n",
    "windy=le.fit_transform(data.windy);\n",
    "label=le.fit_transform(data.playgolf);\n",
    "print(\"outlook:\",outlook,\" \",\"temp:\",temp,\" \",\"humidity:\",humidity,\" \",\"windy:\",windy);"
   ]
  },
  {
   "cell_type": "code",
   "execution_count": 5,
   "metadata": {},
   "outputs": [
    {
     "name": "stdout",
     "output_type": "stream",
     "text": [
      "    0  1  2  3\n",
      "0   1  1  0  0\n",
      "1   1  1  0  1\n",
      "2   0  1  0  0\n",
      "3   2  2  0  0\n",
      "4   2  0  1  0\n",
      "5   2  0  1  1\n",
      "6   0  0  1  1\n",
      "7   1  2  0  0\n",
      "8   1  0  1  0\n",
      "9   2  2  1  0\n",
      "10  1  2  1  1\n",
      "11  0  2  0  1\n",
      "12  0  1  1  0\n",
      "13  2  2  0  1\n",
      "     outlook  temp humidity  windy playgolf\n",
      "0      rainy   hot     high  False       no\n",
      "1      rainy   hot     high   True       no\n",
      "2   overcast   hot     high  False      yes\n",
      "3      sunny  mild     high  False      yes\n",
      "4      sunny  cool   normal  False      yes\n",
      "5      sunny  cool   normal   True       no\n",
      "6   overcast  cool   normal   True      yes\n",
      "7      rainy  mild     high  False       no\n",
      "8      rainy  cool   normal  False      yes\n",
      "9      sunny  mild   normal  False      yes\n",
      "10     rainy  mild   normal   True      yes\n",
      "11  overcast  mild     high   True      yes\n",
      "12  overcast   hot   normal  False      yes\n",
      "13     sunny  mild     high   True       no\n"
     ]
    }
   ],
   "source": [
    "feat=list(zip(outlook,temp,humidity,windy));\n",
    "features=pd.DataFrame(feat);\n",
    "print(features);\n",
    "print(data);"
   ]
  },
  {
   "cell_type": "code",
   "execution_count": 6,
   "metadata": {},
   "outputs": [],
   "source": [
    "model=GaussianNB();\n",
    "model.fit(features,label);"
   ]
  },
  {
   "cell_type": "code",
   "execution_count": 7,
   "metadata": {},
   "outputs": [
    {
     "name": "stdout",
     "output_type": "stream",
     "text": [
      "predicted value: no\n"
     ]
    }
   ],
   "source": [
    "predicted=model.predict([[1,0,0,1]])\n",
    "if predicted==[1]:\n",
    "    print(\"Predicted Value:\",\"yes\");\n",
    "else:\n",
    "    print(\"predicted value:\",\"no\");"
   ]
  },
  {
   "cell_type": "code",
   "execution_count": null,
   "metadata": {},
   "outputs": [],
   "source": []
  }
 ],
 "metadata": {
  "kernelspec": {
   "display_name": "Python 3",
   "language": "python",
   "name": "python3"
  },
  "language_info": {
   "codemirror_mode": {
    "name": "ipython",
    "version": 3
   },
   "file_extension": ".py",
   "mimetype": "text/x-python",
   "name": "python",
   "nbconvert_exporter": "python",
   "pygments_lexer": "ipython3",
   "version": "3.7.1"
  }
 },
 "nbformat": 4,
 "nbformat_minor": 2
}
